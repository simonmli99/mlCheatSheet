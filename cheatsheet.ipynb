{
  "nbformat": 4,
  "nbformat_minor": 0,
  "metadata": {
    "colab": {
      "name": "cheatsheet.ipynb",
      "version": "0.3.2",
      "provenance": []
    },
    "kernelspec": {
      "name": "python3",
      "display_name": "Python 3"
    }
  },
  "cells": [
    {
      "cell_type": "markdown",
      "metadata": {
        "id": "IRBbw72kkr4R",
        "colab_type": "text"
      },
      "source": [
        "XGBoost code from report research"
      ]
    },
    {
      "cell_type": "code",
      "metadata": {
        "id": "ZMYxmRuEkv9e",
        "colab_type": "code",
        "colab": {}
      },
      "source": [
        "import pandas as pd\n",
        "from sklearn.model_selection import train_test_split\n",
        "from sklearn.preprocessing import Imputer\n",
        "\n",
        "my_imputer = Imputer()\n",
        "train_X = my_imputer.fit_transform(train_X)\n",
        "test_X = my_imputer.transform(test_X)\n",
        "\n",
        "from xgboost import XGBRegressor\n",
        "\n",
        "my_model = XGBRegressor()\n",
        "my_model.fit(train_X, train_y, verbose=False)\n",
        "\n",
        "my_model = XGBRegressor(n_estimators=1000)\n",
        "my_model.fit(train_X, train_y, early_stopping_rounds=5, \n",
        "             eval_set=[(test_X, test_y)], verbose=False)\n",
        "\n",
        "my_model = XGBRegressor(n_estimators=1000, learning_rate=0.05)\n",
        "my_model.fit(train_X, train_y, early_stopping_rounds=5, \n",
        "             eval_set=[(test_X, test_y)], verbose=False)\n",
        "\n",
        "my_model = XGBRegressor(n_estimators=1000, learning_rate=0.05, n_jobs=1)\n",
        "my_model.fit(train_X, train_y, early_stopping_rounds=5, \n",
        "             eval_set=[(test_X, test_y)], verbose=False)"
      ],
      "execution_count": 0,
      "outputs": []
    },
    {
      "cell_type": "markdown",
      "metadata": {
        "id": "yZUqPg8hkvU2",
        "colab_type": "text"
      },
      "source": [
        "code from competition\n"
      ]
    },
    {
      "cell_type": "markdown",
      "metadata": {
        "id": "le5GBT3QlPr1",
        "colab_type": "text"
      },
      "source": [
        "random forest"
      ]
    },
    {
      "cell_type": "code",
      "metadata": {
        "id": "9Athbi4Qkvks",
        "colab_type": "code",
        "colab": {}
      },
      "source": [
        "from sklearn.ensemble import RandomForestClassifier\n",
        "rfc = RandomForestClassifier()\n",
        "rfc.fit(X, y)\n"
      ],
      "execution_count": 0,
      "outputs": []
    },
    {
      "cell_type": "markdown",
      "metadata": {
        "id": "TSyOzouMlQ5v",
        "colab_type": "text"
      },
      "source": [
        "SVM"
      ]
    },
    {
      "cell_type": "code",
      "metadata": {
        "id": "IxQhdl1WlYHt",
        "colab_type": "code",
        "colab": {}
      },
      "source": [
        "from sklearn.svm import SVC\n",
        "clf = SVC()\n",
        "clf.fit(X, y)"
      ],
      "execution_count": 0,
      "outputs": []
    },
    {
      "cell_type": "markdown",
      "metadata": {
        "id": "5xgvsZ_blaly",
        "colab_type": "text"
      },
      "source": [
        "logistic regression"
      ]
    },
    {
      "cell_type": "code",
      "metadata": {
        "id": "o-X-YrirlcnQ",
        "colab_type": "code",
        "colab": {}
      },
      "source": [
        "LogReg = LogisticRegression()\n",
        "LogReg.fit(X, y)"
      ],
      "execution_count": 0,
      "outputs": []
    },
    {
      "cell_type": "markdown",
      "metadata": {
        "id": "00QROhgAlevX",
        "colab_type": "text"
      },
      "source": [
        "confusion matrix"
      ]
    },
    {
      "cell_type": "code",
      "metadata": {
        "id": "Ma-f8ppflg5X",
        "colab_type": "code",
        "colab": {}
      },
      "source": [
        "from sklearn.metrics import confusion_matrix\n",
        "confusion_matrix = confusion_matrix(y, y_train_pred)\n",
        "print(confusion_matrix)\n"
      ],
      "execution_count": 0,
      "outputs": []
    },
    {
      "cell_type": "markdown",
      "metadata": {
        "id": "hKLoaNWglhcd",
        "colab_type": "text"
      },
      "source": [
        "classification report"
      ]
    },
    {
      "cell_type": "code",
      "metadata": {
        "id": "zyIwzxIzli-1",
        "colab_type": "code",
        "colab": {}
      },
      "source": [
        "from sklearn.metrics import classification_report\n",
        "print(classification_report(y, y_train_pred))"
      ],
      "execution_count": 0,
      "outputs": []
    },
    {
      "cell_type": "markdown",
      "metadata": {
        "id": "IFVi-86UlmyQ",
        "colab_type": "text"
      },
      "source": [
        "label encoding\n"
      ]
    },
    {
      "cell_type": "code",
      "metadata": {
        "id": "_PM1RqPdlnuq",
        "colab_type": "code",
        "colab": {}
      },
      "source": [
        "le = preprocessing.LabelEncoder()\n",
        "df.job = le.fit_transform(df.job) # example for 1 variable"
      ],
      "execution_count": 0,
      "outputs": []
    }
  ]
}